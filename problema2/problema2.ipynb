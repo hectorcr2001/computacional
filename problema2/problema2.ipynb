{
 "cells": [
  {
   "cell_type": "code",
   "execution_count": 80,
   "metadata": {
    "colab": {
     "base_uri": "https://localhost:8080/",
     "height": 234
    },
    "id": "njl4z28pi-zg",
    "outputId": "4dac777a-347f-4d6a-fe80-f2f159cc9e8d"
   },
   "outputs": [
    {
     "name": "stdout",
     "output_type": "stream",
     "text": [
      "hola\n"
     ]
    },
    {
     "name": "stderr",
     "output_type": "stream",
     "text": [
      "/opt/apps/anaconda3/lib/python3.7/site-packages/ipykernel_launcher.py:34: RuntimeWarning: divide by zero encountered in long_scalars\n"
     ]
    }
   ],
   "source": [
    "import numpy as np\n",
    "import matplotlib.pyplot as plt\n",
    "import math\n",
    "from numpy import random as randomp\n",
    "from random import seed\n",
    "from random import random\n",
    "from datetime import datetime\n",
    "\n",
    "l=1000000 #numero iteraciones\n",
    "now = datetime.now()\n",
    "seed(now.microsecond)\n",
    "randomp.seed(now.microsecond)\n",
    "#paso 0 (inicializar)\n",
    "t=0\n",
    "npart=100\n",
    "#s=randomp.choice([1,-1],size=(npart+1,npart+1))\n",
    "s=np.full((npart+1,npart+1),1)\n",
    "\n",
    "f = open(\"ising_data.dat\", \"w\")\n",
    "print(\"hola\")\n",
    "for i in range(l):\n",
    "  n = randomp.randint(npart)\n",
    "  m = randomp.randint(npart)\n",
    "  #print(n,\" \",m)\n",
    "  #print(n,\" \",m)\n",
    "  #condiciones de contorno\n",
    "  s[0]=s[npart-1]\n",
    "  s[npart]=s[1]\n",
    "  s[:,0]=s[:,npart-1]\n",
    "  s[:,npart]=s[:1]\n",
    "  \n",
    "\n",
    "  #print(s)\n",
    "  p=min(1,math.exp((-1)*(2*s[n][m])*(s[n+1][m]+s[n-1][m]+s[n][m+1]+s[n][m-1])/t))\n",
    "  #generamos numero aleatorio\n",
    "  xi=random()\n",
    "  #print(xi)\n",
    "  if(xi<p):\n",
    "    s[n][m]=-s[n][m]\n",
    "    \n",
    "  if(i%1000==0):  \n",
    "      for j in range(npart):\n",
    "        for k in range(npart):\n",
    "            if(k!=npart-1):\n",
    "              print(str(s[j][k])+\", \",end=\"\", file=f)\n",
    "            else:\n",
    "                print(s[j][k],end=\"\", file=f)\n",
    "        \n",
    "        print(\"\\n\",end='',file=f)\n",
    "    \n",
    "      print(\"\\n\",end='',file=f)\n",
    "\n",
    "  #print(s)\n",
    "    #print(\"h\",file=f)\n",
    "f.close()"
   ]
  },
  {
   "cell_type": "code",
   "execution_count": 81,
   "metadata": {},
   "outputs": [
    {
     "name": "stderr",
     "output_type": "stream",
     "text": [
      "/opt/apps/anaconda3/lib/python3.7/site-packages/ipykernel_launcher.py:72: UserWarning: loadtxt: Empty input file: \"<_io.StringIO object at 0x7f9608ca87d0>\"\n"
     ]
    },
    {
     "ename": "TypeError",
     "evalue": "Invalid shape (0,) for image data",
     "output_type": "error",
     "traceback": [
      "\u001b[0;31m---------------------------------------------------------------------------\u001b[0m",
      "\u001b[0;31mTypeError\u001b[0m                                 Traceback (most recent call last)",
      "\u001b[0;32m<ipython-input-81-7d6043600090>\u001b[0m in \u001b[0;36m<module>\u001b[0;34m\u001b[0m\n\u001b[1;32m    105\u001b[0m     \u001b[0;31m# Muestra por pantalla o guarda según parámetros\u001b[0m\u001b[0;34m\u001b[0m\u001b[0;34m\u001b[0m\u001b[0;34m\u001b[0m\u001b[0m\n\u001b[1;32m    106\u001b[0m     \u001b[0;32mif\u001b[0m \u001b[0msave_to_file\u001b[0m\u001b[0;34m:\u001b[0m\u001b[0;34m\u001b[0m\u001b[0;34m\u001b[0m\u001b[0m\n\u001b[0;32m--> 107\u001b[0;31m         \u001b[0manimation\u001b[0m\u001b[0;34m.\u001b[0m\u001b[0msave\u001b[0m\u001b[0;34m(\u001b[0m\u001b[0;34m\"{}.mp4\"\u001b[0m\u001b[0;34m.\u001b[0m\u001b[0mformat\u001b[0m\u001b[0;34m(\u001b[0m\u001b[0mfile_out\u001b[0m\u001b[0;34m)\u001b[0m\u001b[0;34m,\u001b[0m \u001b[0mdpi\u001b[0m\u001b[0;34m=\u001b[0m\u001b[0mdpi\u001b[0m\u001b[0;34m)\u001b[0m\u001b[0;34m\u001b[0m\u001b[0;34m\u001b[0m\u001b[0m\n\u001b[0m\u001b[1;32m    108\u001b[0m     \u001b[0;32melse\u001b[0m\u001b[0;34m:\u001b[0m\u001b[0;34m\u001b[0m\u001b[0;34m\u001b[0m\u001b[0m\n\u001b[1;32m    109\u001b[0m         \u001b[0mplt\u001b[0m\u001b[0;34m.\u001b[0m\u001b[0mshow\u001b[0m\u001b[0;34m(\u001b[0m\u001b[0;34m)\u001b[0m\u001b[0;34m\u001b[0m\u001b[0;34m\u001b[0m\u001b[0m\n",
      "\u001b[0;32m/opt/apps/anaconda3/lib/python3.7/site-packages/matplotlib/animation.py\u001b[0m in \u001b[0;36msave\u001b[0;34m(self, filename, writer, fps, dpi, codec, bitrate, extra_args, metadata, extra_anim, savefig_kwargs, progress_callback)\u001b[0m\n\u001b[1;32m   1150\u001b[0m                     \u001b[0;32mfor\u001b[0m \u001b[0manim\u001b[0m\u001b[0;34m,\u001b[0m \u001b[0md\u001b[0m \u001b[0;32min\u001b[0m \u001b[0mzip\u001b[0m\u001b[0;34m(\u001b[0m\u001b[0mall_anim\u001b[0m\u001b[0;34m,\u001b[0m \u001b[0mdata\u001b[0m\u001b[0;34m)\u001b[0m\u001b[0;34m:\u001b[0m\u001b[0;34m\u001b[0m\u001b[0;34m\u001b[0m\u001b[0m\n\u001b[1;32m   1151\u001b[0m                         \u001b[0;31m# TODO: See if turning off blit is really necessary\u001b[0m\u001b[0;34m\u001b[0m\u001b[0;34m\u001b[0m\u001b[0;34m\u001b[0m\u001b[0m\n\u001b[0;32m-> 1152\u001b[0;31m                         \u001b[0manim\u001b[0m\u001b[0;34m.\u001b[0m\u001b[0m_draw_next_frame\u001b[0m\u001b[0;34m(\u001b[0m\u001b[0md\u001b[0m\u001b[0;34m,\u001b[0m \u001b[0mblit\u001b[0m\u001b[0;34m=\u001b[0m\u001b[0;32mFalse\u001b[0m\u001b[0;34m)\u001b[0m\u001b[0;34m\u001b[0m\u001b[0;34m\u001b[0m\u001b[0m\n\u001b[0m\u001b[1;32m   1153\u001b[0m                         \u001b[0;32mif\u001b[0m \u001b[0mprogress_callback\u001b[0m \u001b[0;32mis\u001b[0m \u001b[0;32mnot\u001b[0m \u001b[0;32mNone\u001b[0m\u001b[0;34m:\u001b[0m\u001b[0;34m\u001b[0m\u001b[0;34m\u001b[0m\u001b[0m\n\u001b[1;32m   1154\u001b[0m                             \u001b[0mprogress_callback\u001b[0m\u001b[0;34m(\u001b[0m\u001b[0mframe_number\u001b[0m\u001b[0;34m,\u001b[0m \u001b[0mtotal_frames\u001b[0m\u001b[0;34m)\u001b[0m\u001b[0;34m\u001b[0m\u001b[0;34m\u001b[0m\u001b[0m\n",
      "\u001b[0;32m/opt/apps/anaconda3/lib/python3.7/site-packages/matplotlib/animation.py\u001b[0m in \u001b[0;36m_draw_next_frame\u001b[0;34m(self, framedata, blit)\u001b[0m\n\u001b[1;32m   1190\u001b[0m         \u001b[0;31m# post- draw, as well as the drawing of the frame itself.\u001b[0m\u001b[0;34m\u001b[0m\u001b[0;34m\u001b[0m\u001b[0;34m\u001b[0m\u001b[0m\n\u001b[1;32m   1191\u001b[0m         \u001b[0mself\u001b[0m\u001b[0;34m.\u001b[0m\u001b[0m_pre_draw\u001b[0m\u001b[0;34m(\u001b[0m\u001b[0mframedata\u001b[0m\u001b[0;34m,\u001b[0m \u001b[0mblit\u001b[0m\u001b[0;34m)\u001b[0m\u001b[0;34m\u001b[0m\u001b[0;34m\u001b[0m\u001b[0m\n\u001b[0;32m-> 1192\u001b[0;31m         \u001b[0mself\u001b[0m\u001b[0;34m.\u001b[0m\u001b[0m_draw_frame\u001b[0m\u001b[0;34m(\u001b[0m\u001b[0mframedata\u001b[0m\u001b[0;34m)\u001b[0m\u001b[0;34m\u001b[0m\u001b[0;34m\u001b[0m\u001b[0m\n\u001b[0m\u001b[1;32m   1193\u001b[0m         \u001b[0mself\u001b[0m\u001b[0;34m.\u001b[0m\u001b[0m_post_draw\u001b[0m\u001b[0;34m(\u001b[0m\u001b[0mframedata\u001b[0m\u001b[0;34m,\u001b[0m \u001b[0mblit\u001b[0m\u001b[0;34m)\u001b[0m\u001b[0;34m\u001b[0m\u001b[0;34m\u001b[0m\u001b[0m\n\u001b[1;32m   1194\u001b[0m \u001b[0;34m\u001b[0m\u001b[0m\n",
      "\u001b[0;32m/opt/apps/anaconda3/lib/python3.7/site-packages/matplotlib/animation.py\u001b[0m in \u001b[0;36m_draw_frame\u001b[0;34m(self, framedata)\u001b[0m\n\u001b[1;32m   1753\u001b[0m         \u001b[0;31m# Call the func with framedata and args. If blitting is desired,\u001b[0m\u001b[0;34m\u001b[0m\u001b[0;34m\u001b[0m\u001b[0;34m\u001b[0m\u001b[0m\n\u001b[1;32m   1754\u001b[0m         \u001b[0;31m# func needs to return a sequence of any artists that were modified.\u001b[0m\u001b[0;34m\u001b[0m\u001b[0;34m\u001b[0m\u001b[0;34m\u001b[0m\u001b[0m\n\u001b[0;32m-> 1755\u001b[0;31m         \u001b[0mself\u001b[0m\u001b[0;34m.\u001b[0m\u001b[0m_drawn_artists\u001b[0m \u001b[0;34m=\u001b[0m \u001b[0mself\u001b[0m\u001b[0;34m.\u001b[0m\u001b[0m_func\u001b[0m\u001b[0;34m(\u001b[0m\u001b[0mframedata\u001b[0m\u001b[0;34m,\u001b[0m \u001b[0;34m*\u001b[0m\u001b[0mself\u001b[0m\u001b[0;34m.\u001b[0m\u001b[0m_args\u001b[0m\u001b[0;34m)\u001b[0m\u001b[0;34m\u001b[0m\u001b[0;34m\u001b[0m\u001b[0m\n\u001b[0m\u001b[1;32m   1756\u001b[0m         \u001b[0;32mif\u001b[0m \u001b[0mself\u001b[0m\u001b[0;34m.\u001b[0m\u001b[0m_blit\u001b[0m\u001b[0;34m:\u001b[0m\u001b[0;34m\u001b[0m\u001b[0;34m\u001b[0m\u001b[0m\n\u001b[1;32m   1757\u001b[0m             \u001b[0;32mif\u001b[0m \u001b[0mself\u001b[0m\u001b[0;34m.\u001b[0m\u001b[0m_drawn_artists\u001b[0m \u001b[0;32mis\u001b[0m \u001b[0;32mNone\u001b[0m\u001b[0;34m:\u001b[0m\u001b[0;34m\u001b[0m\u001b[0;34m\u001b[0m\u001b[0m\n",
      "\u001b[0;32m<ipython-input-81-7d6043600090>\u001b[0m in \u001b[0;36mupdate\u001b[0;34m(j_frame, frames_data, im)\u001b[0m\n\u001b[1;32m     90\u001b[0m \u001b[0;32mdef\u001b[0m \u001b[0mupdate\u001b[0m\u001b[0;34m(\u001b[0m\u001b[0mj_frame\u001b[0m\u001b[0;34m,\u001b[0m \u001b[0mframes_data\u001b[0m\u001b[0;34m,\u001b[0m \u001b[0mim\u001b[0m\u001b[0;34m)\u001b[0m\u001b[0;34m:\u001b[0m\u001b[0;34m\u001b[0m\u001b[0;34m\u001b[0m\u001b[0m\n\u001b[1;32m     91\u001b[0m     \u001b[0;31m# Actualiza el gráfico con la configuración del sistema\u001b[0m\u001b[0;34m\u001b[0m\u001b[0;34m\u001b[0m\u001b[0;34m\u001b[0m\u001b[0m\n\u001b[0;32m---> 92\u001b[0;31m     \u001b[0mim\u001b[0m\u001b[0;34m.\u001b[0m\u001b[0mset_data\u001b[0m\u001b[0;34m(\u001b[0m\u001b[0mframes_data\u001b[0m\u001b[0;34m[\u001b[0m\u001b[0mj_frame\u001b[0m\u001b[0;34m]\u001b[0m\u001b[0;34m)\u001b[0m\u001b[0;34m\u001b[0m\u001b[0;34m\u001b[0m\u001b[0m\n\u001b[0m\u001b[1;32m     93\u001b[0m \u001b[0;34m\u001b[0m\u001b[0m\n\u001b[1;32m     94\u001b[0m     \u001b[0;32mreturn\u001b[0m \u001b[0mim\u001b[0m\u001b[0;34m,\u001b[0m\u001b[0;34m\u001b[0m\u001b[0;34m\u001b[0m\u001b[0m\n",
      "\u001b[0;32m/opt/apps/anaconda3/lib/python3.7/site-packages/matplotlib/image.py\u001b[0m in \u001b[0;36mset_data\u001b[0;34m(self, A)\u001b[0m\n\u001b[1;32m    688\u001b[0m                 or self._A.ndim == 3 and self._A.shape[-1] in [3, 4]):\n\u001b[1;32m    689\u001b[0m             raise TypeError(\"Invalid shape {} for image data\"\n\u001b[0;32m--> 690\u001b[0;31m                             .format(self._A.shape))\n\u001b[0m\u001b[1;32m    691\u001b[0m \u001b[0;34m\u001b[0m\u001b[0m\n\u001b[1;32m    692\u001b[0m         \u001b[0;32mif\u001b[0m \u001b[0mself\u001b[0m\u001b[0;34m.\u001b[0m\u001b[0m_A\u001b[0m\u001b[0;34m.\u001b[0m\u001b[0mndim\u001b[0m \u001b[0;34m==\u001b[0m \u001b[0;36m3\u001b[0m\u001b[0;34m:\u001b[0m\u001b[0;34m\u001b[0m\u001b[0;34m\u001b[0m\u001b[0m\n",
      "\u001b[0;31mTypeError\u001b[0m: Invalid shape (0,) for image data"
     ]
    },
    {
     "data": {
      "image/png": "[encoded data removed]",
      "text/plain": [
       "<Figure size 432x288 with 1 Axes>"
      ]
     },
     "metadata": {
      "needs_background": "light"
     },
     "output_type": "display_data"
    }
   ],
   "source": [
    "# ================================================================================\n",
    "# ANIMACION ISING\n",
    "#\n",
    "# Genera una animación a partir de un fichero de datos con la configuración\n",
    "# del retículo en cada instante de tiempo\n",
    "# \n",
    "# El fichero debe estructurarse de la siguiente forma:\n",
    "# \n",
    "#   s(1,1)_1, s(1,2)_1, ..., s(1,M)_1\n",
    "#   s(2,1)_1, s(2,2)_1, ..., s(2,M)_1\n",
    "#   (...)\n",
    "#   s(N,1)_1, s(N,2)_1, ..., s(N,M)_1\n",
    "#   \n",
    "#   s(1,1)_2, s(1,2)_2, ..., s(1,M)_2\n",
    "#   s(2,1)_2, s(2,2)_2, ..., s(2,M)_2\n",
    "#   (...)\n",
    "#   s(N,1)_2, s(N,2)_2, ..., s(N,M)_2\n",
    "#\n",
    "#   s(1,1)_3, s(1,2)_3, ..., s(1,M)_3\n",
    "#   s(2,1)_3, s(2,2)_3, ..., s(2,M)_3\n",
    "#   (...)\n",
    "#   s(N,1)_3, s(N,2)_3, ..., s(N,M)_3\n",
    "#   \n",
    "#   (...)\n",
    "#\n",
    "# donde s(i,j)_k es el valor del spin en la fila i-ésima y la columna\n",
    "# j-ésima en el instante k. M es el número de columnas y N el número\n",
    "# de filas en el retículo. Los valores del spin deben ser +1 ó -1.\n",
    "# El programa asume que las dimensiones del retículo no cambian a lo\n",
    "# largo del tiempo.\n",
    "# \n",
    "# Si solo se especifica un instante de tiempo, se genera una imagen en pdf\n",
    "# en lugar de una animación\n",
    "#\n",
    "# Se puede configurar la animación cambiando el valor de las variables\n",
    "# de la sección \"Parámetros\"\n",
    "#\n",
    "# ================================================================================\n",
    "\n",
    "# Importa los módulos necesarios\n",
    "from matplotlib import pyplot as plt\n",
    "from matplotlib.animation import FuncAnimation\n",
    "import numpy as np\n",
    "import io\n",
    "\n",
    "# Parámetros\n",
    "# ========================================\n",
    "file_in = \"ising_data.dat\" # Nombre del fichero de datos\n",
    "file_out = \"ising\" # Nombre del fichero de salida (sin extensión)\n",
    "interval = 100 # Tiempo entre fotogramas en milisegundos\n",
    "save_to_file = True # False: muestra la animación por pantalla,\n",
    "                     # True: la guarda en un fichero\n",
    "dpi = 150 # Calidad del vídeo de salida (dots per inch)\n",
    "\n",
    "\n",
    "# Lectura del fichero de datos\n",
    "# ========================================\n",
    "# Lee el fichero a una cadena de texto\n",
    "with open(file_in, \"r\") as f:\n",
    "    data_str = f.read()\n",
    "\n",
    "# Inicializa la lista con los datos de cada fotograma.\n",
    "# frames_data[j] contiene los datos del fotograma j-ésimo\n",
    "frames_data = list()\n",
    "\n",
    "# Itera sobre los bloques de texto separados por líneas vacías\n",
    "# (cada bloque corresponde a un instante de tiempo)\n",
    "for frame_data_str in data_str.split(\"\\n\\n\"):\n",
    "    # Almacena el bloque en una matriz\n",
    "    # (io.StringIO permite leer una cadena de texto como si fuera un\n",
    "    # fichero, lo que nos permite usar la función loadtxt de numpy)\n",
    "    frame_data = np.loadtxt(io.StringIO(frame_data_str), delimiter=\",\")\n",
    "\n",
    "    # Añade los datos del fotograma (la configuración del sistema)\n",
    "    # a la lista\n",
    "    frames_data.append(frame_data)\n",
    "\n",
    "# Creación de la animación/gráfico\n",
    "# ========================================\n",
    "# Crea los objetos figure y axis\n",
    "fig, ax = plt.subplots()\n",
    "\n",
    "# Define el rango de los ejes\n",
    "ax.axis(\"off\")  # No muestra los ejes\n",
    "\n",
    "# Representa el primer fotograma\n",
    "im = ax.imshow(frames_data[0], cmap=\"binary\", vmin=-1, vmax=+1)\n",
    " \n",
    "# Función que actualiza la configuración del sistema en la animación\n",
    "def update(j_frame, frames_data, im):\n",
    "    # Actualiza el gráfico con la configuración del sistema\n",
    "    im.set_data(frames_data[j_frame])\n",
    "\n",
    "    return im,\n",
    "\n",
    "# Calcula el nº de frtogramas o instantes de tiempo\n",
    "nframes = len(frames_data)\n",
    "\n",
    "# Si hay más de un instante de tiempo, genera la animación\n",
    "if nframes > 1:\n",
    "    animation = FuncAnimation(\n",
    "            fig, update,\n",
    "            fargs=(frames_data, im), frames=len(frames_data), blit=True, interval=interval)\n",
    "\n",
    "    # Muestra por pantalla o guarda según parámetros\n",
    "    if save_to_file:\n",
    "        animation.save(\"{}.mp4\".format(file_out), dpi=dpi)\n",
    "    else:\n",
    "        plt.show()\n",
    "# En caso contrario, muestra o guarda una imagen\n",
    "else:\n",
    "    # Muestra por pantalla o guarda según parámetros\n",
    "    if save_to_file:\n",
    "        fig.savefig(\"{}.pdf\".format(file_out))\n",
    "    else:\n",
    "        plt.show()"
   ]
  },
  {
   "cell_type": "code",
   "execution_count": null,
   "metadata": {},
   "outputs": [],
   "source": []
  }
 ],
 "metadata": {
  "colab": {
   "name": "problema2.ipynb",
   "provenance": []
  },
  "kernelspec": {
   "display_name": "Python 3",
   "language": "python",
   "name": "python3"
  },
  "language_info": {
   "codemirror_mode": {
    "name": "ipython",
    "version": 3
   },
   "file_extension": ".py",
   "mimetype": "text/x-python",
   "name": "python",
   "nbconvert_exporter": "python",
   "pygments_lexer": "ipython3",
   "version": "3.7.6"
  }
 },
 "nbformat": 4,
 "nbformat_minor": 1
}
